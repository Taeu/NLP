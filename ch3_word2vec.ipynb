{
 "cells": [
  {
   "cell_type": "markdown",
   "metadata": {},
   "source": [
    "# Chapter 3. Word2Vec\n",
    "\n",
    "3.1 추론 기반 기법과 신경망\n",
    "- 3.1.1 통계 기반 기법의 문제점\n",
    "- 3.1.2 추론 기반 기법 개요\n",
    "- 3.1.3 신경망에서의 단어 처리\n",
    "\n",
    "3.2 단순한 word2vec\n",
    "- 3.2.1 CBOW 모델의 추론 처리\n",
    "- 3.2.2 CBOW 모델의 학습\n",
    "- 3.2.3 word2vec의 가중치와 분산 표현\n",
    "\n",
    "3.3 학습 데이터 준비\n",
    "- 3.3.1 맥락과 타깃\n",
    "- 3.3.2 원핫 표현으로 변환\n",
    "\n",
    "3.4 CBOW 모델 구현\n",
    "- 3.4.1 학습 코드 구현\n",
    "\n",
    "\n",
    "3.5 word2vec 보충\n",
    "- 3.5.1 CBOW 모델과 확률\n",
    "- 3.5.2 skip-gram 모델\n",
    "- 3.5.3 통계 기발 vs 추론 기반\n",
    "\n",
    "3.6 정리"
   ]
  },
  {
   "cell_type": "markdown",
   "metadata": {},
   "source": [
    "## 3.1 추론 기반 기법과 신경망\n",
    "- 3.1.1 통계 기반 기법의 문제점\n",
    "    - SVD를 n x n행렬에 적용하는 시간복잡도는 O(n^3), 영어의 어휘수는 100만개 이상인데 이를 처리하기에는 비현실적인 방법\n",
    "\n",
    "\n",
    "- 3.1.2 추론 기반 기법 개요\n",
    "    - __you__ [  ?  ] __goodbye__ and I say hello.\n",
    "    - [  ?  ] 주위의 맥락(you && goodbye)을 사용해 [  ?  ]를 추론하는 작업\n",
    "    - 신경망을 활용, 학습데이터의 일부를 사용해 순차적 학습(minibatch)\n",
    "    - output은 [  ?  ] 에 들어갈 어휘의 확률 분포 값\n",
    "     \n",
    "\n",
    "- 3.1.3 신경망에서의 단어 처리\n",
    "    - one-hot, 원핫 표현(또는 원핫 벡터) : 벡터의 원소 중 하나만 1이고, 나머지는 모두 0\n",
    "    - you -> 단어 ID : 0 -> 원핫 표현 : [ 1, 0, 0, 0, 0, 0, 0]\n",
    "    - goodbye -> 단어 ID : 2 -> 원핫 표현 : [0, 0, 1, 0, 0, 0, 0]\n"
   ]
  },
  {
   "cell_type": "code",
   "execution_count": 3,
   "metadata": {},
   "outputs": [
    {
     "name": "stdout",
     "output_type": "stream",
     "text": [
      "[[-0.06007483  0.25882855 -0.91835303]]\n"
     ]
    }
   ],
   "source": [
    "# 3.1.3 신경망에서의 단어 처리\n",
    "\n",
    "import numpy as np\n",
    "\n",
    "c = np.array([[1,0,0,0,0,0,0]])\n",
    "W = np.random.randn(7,3)\n",
    "h = np.matmul(c,W)\n",
    "print(h)"
   ]
  },
  {
   "cell_type": "code",
   "execution_count": null,
   "metadata": {},
   "outputs": [],
   "source": [
    "import sys\n",
    "sys.path.append('..')\n",
    "from common.layers import MatMul\n"
   ]
  }
 ],
 "metadata": {
  "kernelspec": {
   "display_name": "Python 3",
   "language": "python",
   "name": "python3"
  },
  "language_info": {
   "codemirror_mode": {
    "name": "ipython",
    "version": 3
   },
   "file_extension": ".py",
   "mimetype": "text/x-python",
   "name": "python",
   "nbconvert_exporter": "python",
   "pygments_lexer": "ipython3",
   "version": "3.7.1"
  }
 },
 "nbformat": 4,
 "nbformat_minor": 2
}
